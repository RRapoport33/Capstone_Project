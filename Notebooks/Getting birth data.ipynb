{
 "cells": [
  {
   "cell_type": "code",
   "execution_count": null,
   "id": "e5795a3f",
   "metadata": {},
   "outputs": [],
   "source": [
    "import pandas as pd"
   ]
  },
  {
   "cell_type": "markdown",
   "id": "7e6469f2",
   "metadata": {},
   "source": [
    "# Bring in Data Set filtering only specific columns"
   ]
  },
  {
   "cell_type": "code",
   "execution_count": null,
   "id": "bdd0e439",
   "metadata": {},
   "outputs": [],
   "source": [
    "birth_data = pd.read_csv('data/birth_2010.csv', usecols=['bfacil', 'mracerec', 'ld_indl', 'ld_augm', 'dmeth_rec', 'mm_mtr', 'mm_plac', 'mm_rupt', 'mm_uhyst', 'mm_icu', 'apgar5', 'pay_rec', 'attend'])"
   ]
  },
  {
   "cell_type": "code",
   "execution_count": null,
   "id": "f7f56a2b",
   "metadata": {},
   "outputs": [],
   "source": [
    "birth_data"
   ]
  },
  {
   "cell_type": "markdown",
   "id": "e5612fdb",
   "metadata": {},
   "source": [
    "# rename dataframe"
   ]
  },
  {
   "cell_type": "code",
   "execution_count": null,
   "id": "17505d1e",
   "metadata": {},
   "outputs": [],
   "source": [
    "birth_data = pd.DataFrame(birth_data)"
   ]
  },
  {
   "cell_type": "markdown",
   "id": "efa7c4e4",
   "metadata": {},
   "source": [
    "birth_data = birth_data[['bfacil', 'mrace6', 'ld_indl', 'ld_augm', 'dmeth_rec', 'mm_mtr', 'mm_plac', 'mm_rupt', 'mm_uhyst', 'mm_aicu', 'apgar5', 'pay_rec', 'attend']]"
   ]
  },
  {
   "cell_type": "markdown",
   "id": "0fde4fd1",
   "metadata": {},
   "source": [
    "# Rename columns for clarity"
   ]
  },
  {
   "cell_type": "code",
   "execution_count": null,
   "id": "729eae71",
   "metadata": {},
   "outputs": [],
   "source": [
    "birth_data = birth_data.rename(columns = {'bfacil': 'Place', 'mracerec': 'Race', 'ld_indl': 'Induction', 'ld_augm': 'Augmented', 'dmeth_rec': 'Delivery_Type', 'mm_mtr': 'Maternal_Transfusion', 'mm_plac': 'Perineal_Tear', 'mm_rupt': 'Uterin_Rupture', 'mm_uhyst': 'unplanned_hysterectomy', 'mm_icu': 'ICU_Admission', 'apgar5': '5_min_APGAR', 'pay_rec': 'Payment_Type'})\n",
    "birth_data"
   ]
  },
  {
   "cell_type": "code",
   "execution_count": null,
   "id": "11f63d77",
   "metadata": {},
   "outputs": [],
   "source": [
    "birth_data = birth_data.dropna()"
   ]
  },
  {
   "cell_type": "markdown",
   "id": "5e849d8f",
   "metadata": {},
   "source": [
    "# Break down data to only hospital(1.0) or Freestanding Birth Center(2.0)"
   ]
  },
  {
   "cell_type": "code",
   "execution_count": null,
   "id": "237bd928",
   "metadata": {},
   "outputs": [],
   "source": [
    "birth_data = birth_data.loc[(birth_data.Place == 1.0) | (birth_data.Place == 2.0)]\n",
    "birth_data"
   ]
  },
  {
   "cell_type": "markdown",
   "id": "cb39c94e",
   "metadata": {},
   "source": [
    "# breakdown data into 3 major race's White(1.0), Black(2.0), Asian(4.0)"
   ]
  },
  {
   "cell_type": "markdown",
   "id": "390a207e",
   "metadata": {},
   "source": [
    "birth_data['Race']"
   ]
  },
  {
   "cell_type": "code",
   "execution_count": null,
   "id": "0296204d",
   "metadata": {
    "scrolled": true
   },
   "outputs": [],
   "source": [
    "birth_data = birth_data.loc[(birth_data.Race == 1) | (birth_data.Race == 2) | (birth_data.Race == 4)]\n",
    "birth_data"
   ]
  },
  {
   "cell_type": "markdown",
   "id": "65800cc4",
   "metadata": {},
   "source": [
    "# breakdown data of Attendant at Birth MD(1.0), CNM/CM(3.0), Other Midwife(4.0) "
   ]
  },
  {
   "cell_type": "code",
   "execution_count": null,
   "id": "4c938b3d",
   "metadata": {},
   "outputs": [],
   "source": [
    "birth_data = birth_data.loc[(birth_data.attend == 1) | (birth_data.attend == 3) | (birth_data.attend == 4)]\n",
    "birth_data"
   ]
  },
  {
   "cell_type": "markdown",
   "id": "2e9b6730",
   "metadata": {},
   "source": [
    "# Create new DF just for birth center data"
   ]
  },
  {
   "cell_type": "code",
   "execution_count": null,
   "id": "08bcbcd3",
   "metadata": {},
   "outputs": [],
   "source": [
    "birth_center_2010 = birth_data.loc[(birth_data.Place == 2)]\n",
    "birth_center_2010"
   ]
  },
  {
   "cell_type": "code",
   "execution_count": null,
   "id": "4750898b",
   "metadata": {},
   "outputs": [],
   "source": [
    "# export to csv\n",
    "birth_center_2010.to_csv('birth_center_2010.csv', index=False)"
   ]
  },
  {
   "cell_type": "markdown",
   "id": "14d94922",
   "metadata": {},
   "source": [
    "# Reset Index"
   ]
  },
  {
   "cell_type": "markdown",
   "id": "120cba0b",
   "metadata": {},
   "source": [
    "birth_center.reset_index()"
   ]
  },
  {
   "cell_type": "markdown",
   "id": "7282f43d",
   "metadata": {},
   "source": [
    "# Create DF for just hospital births"
   ]
  },
  {
   "cell_type": "code",
   "execution_count": null,
   "id": "4e21b569",
   "metadata": {},
   "outputs": [],
   "source": [
    "hospital_birth_2010 = birth_data.loc[(birth_data.Place == 1)]\n",
    "hospital_birth_2010"
   ]
  },
  {
   "cell_type": "code",
   "execution_count": null,
   "id": "287c5867",
   "metadata": {},
   "outputs": [],
   "source": [
    "# export to csv\n",
    "hospital_birth_2010.to_csv('hospital_birth_2010.csv', index=False)"
   ]
  }
 ],
 "metadata": {
  "kernelspec": {
   "display_name": "Python 3 (ipykernel)",
   "language": "python",
   "name": "python3"
  },
  "language_info": {
   "codemirror_mode": {
    "name": "ipython",
    "version": 3
   },
   "file_extension": ".py",
   "mimetype": "text/x-python",
   "name": "python",
   "nbconvert_exporter": "python",
   "pygments_lexer": "ipython3",
   "version": "3.9.7"
  }
 },
 "nbformat": 4,
 "nbformat_minor": 5
}
