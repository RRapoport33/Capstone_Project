{
 "cells": [
  {
   "cell_type": "code",
   "execution_count": null,
   "id": "4b87bd53",
   "metadata": {},
   "outputs": [],
   "source": [
    "import pandas as pd"
   ]
  },
  {
   "cell_type": "code",
   "execution_count": null,
   "id": "52c40903",
   "metadata": {},
   "outputs": [],
   "source": [
    "birth_data = pd.read_csv('../data/birth_data_final.csv')"
   ]
  },
  {
   "cell_type": "markdown",
   "id": "c6ac71a5",
   "metadata": {},
   "source": [
    "birth_data.loc[birth_data['Augmented', 'Maternal_Transfusion', 'Uterin_Rupture', 'unplanned_hysterectomy', 'ICU_Admission'] == 'Y', 'Complication'] = 'True'\n",
    "birth_data.loc[birth_data['Augmented', 'Maternal_Transfusion', 'Uterin_Rupture', 'unplanned_hysterectomy', 'ICU_Admission'] != 'Y', 'Complication'] = 'False'"
   ]
  },
  {
   "cell_type": "code",
   "execution_count": null,
   "id": "cbfe7682",
   "metadata": {
    "scrolled": true
   },
   "outputs": [],
   "source": [
    "birth_data"
   ]
  },
  {
   "cell_type": "markdown",
   "id": "8be9b4d7",
   "metadata": {},
   "source": [
    "birth_data['complications'] = False\n",
    "for index, row in birth_data.iterrows():\n",
    "    birth_data.loc[index, 'complications'] = row.Augmented == 'Y'"
   ]
  },
  {
   "cell_type": "code",
   "execution_count": null,
   "id": "0a41385a",
   "metadata": {},
   "outputs": [],
   "source": [
    "\n",
    "birth_data['complications'] = (birth_data[['Augmented', 'Maternal_Transfusion', 'Perineal_Tear', 'Uterin_Rupture', 'unplanned_hysterectomy', 'ICU_Admission']] == 'Y').any(axis=1)\n"
   ]
  },
  {
   "cell_type": "code",
   "execution_count": null,
   "id": "3f76377a",
   "metadata": {},
   "outputs": [],
   "source": [
    "birth_data"
   ]
  },
  {
   "cell_type": "code",
   "execution_count": null,
   "id": "f35d5557",
   "metadata": {},
   "outputs": [],
   "source": [
    "birth_data['complications'].value_counts()"
   ]
  },
  {
   "cell_type": "code",
   "execution_count": null,
   "id": "183c693f",
   "metadata": {},
   "outputs": [],
   "source": [
    "birth_data_total = birth_data"
   ]
  },
  {
   "cell_type": "code",
   "execution_count": null,
   "id": "4ef20add",
   "metadata": {},
   "outputs": [],
   "source": [
    "birth_data_total.to_csv('birth_data_total.csv', index=False)"
   ]
  },
  {
   "cell_type": "code",
   "execution_count": null,
   "id": "35c7d71e",
   "metadata": {},
   "outputs": [],
   "source": []
  }
 ],
 "metadata": {
  "kernelspec": {
   "display_name": "Python 3 (ipykernel)",
   "language": "python",
   "name": "python3"
  },
  "language_info": {
   "codemirror_mode": {
    "name": "ipython",
    "version": 3
   },
   "file_extension": ".py",
   "mimetype": "text/x-python",
   "name": "python",
   "nbconvert_exporter": "python",
   "pygments_lexer": "ipython3",
   "version": "3.9.7"
  }
 },
 "nbformat": 4,
 "nbformat_minor": 5
}
