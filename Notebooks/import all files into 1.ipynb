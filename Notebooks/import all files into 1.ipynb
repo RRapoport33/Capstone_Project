{
 "cells": [
  {
   "cell_type": "code",
   "execution_count": null,
   "id": "17bb9398",
   "metadata": {},
   "outputs": [],
   "source": [
    "import pandas as pd\n",
    "import glob\n",
    "import os"
   ]
  },
  {
   "cell_type": "code",
   "execution_count": null,
   "id": "37569596",
   "metadata": {},
   "outputs": [],
   "source": [
    "files_joined = os.path.join('C:\\\\Users\\\\Ronit\\\\Documents\\\\NSS\\\\Capstone\\\\Capstone_Project\\\\Data', \"full_*.csv\")"
   ]
  },
  {
   "cell_type": "code",
   "execution_count": null,
   "id": "7ebd2f19",
   "metadata": {},
   "outputs": [],
   "source": [
    "list_files = glob.glob(files_joined)"
   ]
  },
  {
   "cell_type": "code",
   "execution_count": null,
   "id": "4bb62fc3",
   "metadata": {},
   "outputs": [],
   "source": [
    "birth_data = pd.concat(map(pd.read_csv, list_files), ignore_index=True)\n",
    "birth_data"
   ]
  },
  {
   "cell_type": "code",
   "execution_count": null,
   "id": "b81513dd",
   "metadata": {},
   "outputs": [],
   "source": [
    "birth_data['Race'] = birth_data['Race'].replace({10: 1, 20: 2, 40: 4})"
   ]
  },
  {
   "cell_type": "code",
   "execution_count": null,
   "id": "80369ab6",
   "metadata": {},
   "outputs": [],
   "source": [
    "birth_data['Race'].value_counts()"
   ]
  },
  {
   "cell_type": "code",
   "execution_count": null,
   "id": "80539eea",
   "metadata": {},
   "outputs": [],
   "source": [
    "birth_data_final = birth_data"
   ]
  },
  {
   "cell_type": "code",
   "execution_count": null,
   "id": "53ee7efd",
   "metadata": {},
   "outputs": [],
   "source": [
    "birth_data_final.to_csv('birth_data_final.csv', index=False)"
   ]
  },
  {
   "cell_type": "code",
   "execution_count": null,
   "id": "630be831",
   "metadata": {},
   "outputs": [],
   "source": []
  }
 ],
 "metadata": {
  "kernelspec": {
   "display_name": "Python 3 (ipykernel)",
   "language": "python",
   "name": "python3"
  },
  "language_info": {
   "codemirror_mode": {
    "name": "ipython",
    "version": 3
   },
   "file_extension": ".py",
   "mimetype": "text/x-python",
   "name": "python",
   "nbconvert_exporter": "python",
   "pygments_lexer": "ipython3",
   "version": "3.9.7"
  }
 },
 "nbformat": 4,
 "nbformat_minor": 5
}
