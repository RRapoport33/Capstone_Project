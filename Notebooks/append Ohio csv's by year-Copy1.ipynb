{
 "cells": [
  {
   "cell_type": "code",
   "execution_count": null,
   "id": "89e0acf7",
   "metadata": {},
   "outputs": [],
   "source": [
    "import pandas as pd"
   ]
  },
  {
   "cell_type": "code",
   "execution_count": null,
   "id": "f60f3fc4",
   "metadata": {},
   "outputs": [],
   "source": [
    "bc_2019 = pd.read_csv('../Ohio data/bc_2019.csv')\n",
    "bc_2019"
   ]
  },
  {
   "cell_type": "code",
   "execution_count": null,
   "id": "1f62e55b",
   "metadata": {},
   "outputs": [],
   "source": [
    "hospital_2019 = pd.read_csv('../data/hospital_2019.csv')"
   ]
  },
  {
   "cell_type": "code",
   "execution_count": null,
   "id": "0af4868a",
   "metadata": {},
   "outputs": [],
   "source": [
    "birth_2019 = bc_2019.append(hospital_2019)"
   ]
  },
  {
   "cell_type": "code",
   "execution_count": null,
   "id": "54549fb0",
   "metadata": {},
   "outputs": [],
   "source": [
    "birth_2019.to_csv('birth_2019.csv', index=False)"
   ]
  },
  {
   "cell_type": "code",
   "execution_count": null,
   "id": "b9189288",
   "metadata": {},
   "outputs": [],
   "source": []
  }
 ],
 "metadata": {
  "kernelspec": {
   "display_name": "Python 3 (ipykernel)",
   "language": "python",
   "name": "python3"
  },
  "language_info": {
   "codemirror_mode": {
    "name": "ipython",
    "version": 3
   },
   "file_extension": ".py",
   "mimetype": "text/x-python",
   "name": "python",
   "nbconvert_exporter": "python",
   "pygments_lexer": "ipython3",
   "version": "3.9.7"
  }
 },
 "nbformat": 4,
 "nbformat_minor": 5
}
