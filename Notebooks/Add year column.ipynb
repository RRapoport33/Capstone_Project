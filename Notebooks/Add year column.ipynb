{
 "cells": [
  {
   "cell_type": "code",
   "execution_count": null,
   "id": "6f3e70e2",
   "metadata": {},
   "outputs": [],
   "source": [
    "import pandas as pd"
   ]
  },
  {
   "cell_type": "code",
   "execution_count": null,
   "id": "7dcb18c5",
   "metadata": {},
   "outputs": [],
   "source": [
    "data_2020 = pd.read_csv('../data/hospital_2020.csv')\n",
    "data_2020"
   ]
  },
  {
   "cell_type": "code",
   "execution_count": null,
   "id": "acb93f37",
   "metadata": {},
   "outputs": [],
   "source": [
    "data_2020['Year'] = 2020"
   ]
  },
  {
   "cell_type": "code",
   "execution_count": null,
   "id": "f04e8bc7",
   "metadata": {},
   "outputs": [],
   "source": [
    "hospital_2020 = data_2020"
   ]
  },
  {
   "cell_type": "code",
   "execution_count": null,
   "id": "75899ad6",
   "metadata": {},
   "outputs": [],
   "source": [
    "hospital_2020.to_csv('hospital_2020.csv', index=False)"
   ]
  },
  {
   "cell_type": "code",
   "execution_count": null,
   "id": "6e1bfd4f",
   "metadata": {},
   "outputs": [],
   "source": []
  }
 ],
 "metadata": {
  "kernelspec": {
   "display_name": "Python 3 (ipykernel)",
   "language": "python",
   "name": "python3"
  },
  "language_info": {
   "codemirror_mode": {
    "name": "ipython",
    "version": 3
   },
   "file_extension": ".py",
   "mimetype": "text/x-python",
   "name": "python",
   "nbconvert_exporter": "python",
   "pygments_lexer": "ipython3",
   "version": "3.9.7"
  }
 },
 "nbformat": 4,
 "nbformat_minor": 5
}
