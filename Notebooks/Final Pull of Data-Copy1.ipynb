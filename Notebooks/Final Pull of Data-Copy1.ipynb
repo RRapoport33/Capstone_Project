{
 "cells": [
  {
   "cell_type": "code",
   "execution_count": 1,
   "id": "e5795a3f",
   "metadata": {},
   "outputs": [],
   "source": [
    "import pandas as pd"
   ]
  },
  {
   "cell_type": "markdown",
   "id": "7e6469f2",
   "metadata": {},
   "source": [
    "# Bring in Data Set filtering only specific columns"
   ]
  },
  {
   "cell_type": "code",
   "execution_count": 2,
   "id": "bdd0e439",
   "metadata": {},
   "outputs": [],
   "source": [
    "birth_data = pd.read_csv('../Data/data_2020.csv', usecols=['MRACE6', 'RESTATUS'])"
   ]
  },
  {
   "cell_type": "code",
   "execution_count": 3,
   "id": "f7f56a2b",
   "metadata": {},
   "outputs": [
    {
     "data": {
      "text/html": [
       "<div>\n",
       "<style scoped>\n",
       "    .dataframe tbody tr th:only-of-type {\n",
       "        vertical-align: middle;\n",
       "    }\n",
       "\n",
       "    .dataframe tbody tr th {\n",
       "        vertical-align: top;\n",
       "    }\n",
       "\n",
       "    .dataframe thead th {\n",
       "        text-align: right;\n",
       "    }\n",
       "</style>\n",
       "<table border=\"1\" class=\"dataframe\">\n",
       "  <thead>\n",
       "    <tr style=\"text-align: right;\">\n",
       "      <th></th>\n",
       "      <th>RESTATUS</th>\n",
       "      <th>MRACE6</th>\n",
       "    </tr>\n",
       "  </thead>\n",
       "  <tbody>\n",
       "    <tr>\n",
       "      <th>0</th>\n",
       "      <td>1.0</td>\n",
       "      <td>1.0</td>\n",
       "    </tr>\n",
       "    <tr>\n",
       "      <th>1</th>\n",
       "      <td>1.0</td>\n",
       "      <td>1.0</td>\n",
       "    </tr>\n",
       "    <tr>\n",
       "      <th>2</th>\n",
       "      <td>2.0</td>\n",
       "      <td>1.0</td>\n",
       "    </tr>\n",
       "    <tr>\n",
       "      <th>3</th>\n",
       "      <td>1.0</td>\n",
       "      <td>1.0</td>\n",
       "    </tr>\n",
       "    <tr>\n",
       "      <th>4</th>\n",
       "      <td>2.0</td>\n",
       "      <td>1.0</td>\n",
       "    </tr>\n",
       "    <tr>\n",
       "      <th>...</th>\n",
       "      <td>...</td>\n",
       "      <td>...</td>\n",
       "    </tr>\n",
       "    <tr>\n",
       "      <th>3619849</th>\n",
       "      <td>1.0</td>\n",
       "      <td>1.0</td>\n",
       "    </tr>\n",
       "    <tr>\n",
       "      <th>3619850</th>\n",
       "      <td>1.0</td>\n",
       "      <td>1.0</td>\n",
       "    </tr>\n",
       "    <tr>\n",
       "      <th>3619851</th>\n",
       "      <td>2.0</td>\n",
       "      <td>2.0</td>\n",
       "    </tr>\n",
       "    <tr>\n",
       "      <th>3619852</th>\n",
       "      <td>2.0</td>\n",
       "      <td>2.0</td>\n",
       "    </tr>\n",
       "    <tr>\n",
       "      <th>3619853</th>\n",
       "      <td>2.0</td>\n",
       "      <td>1.0</td>\n",
       "    </tr>\n",
       "  </tbody>\n",
       "</table>\n",
       "<p>3619854 rows × 2 columns</p>\n",
       "</div>"
      ],
      "text/plain": [
       "         RESTATUS  MRACE6\n",
       "0             1.0     1.0\n",
       "1             1.0     1.0\n",
       "2             2.0     1.0\n",
       "3             1.0     1.0\n",
       "4             2.0     1.0\n",
       "...           ...     ...\n",
       "3619849       1.0     1.0\n",
       "3619850       1.0     1.0\n",
       "3619851       2.0     2.0\n",
       "3619852       2.0     2.0\n",
       "3619853       2.0     1.0\n",
       "\n",
       "[3619854 rows x 2 columns]"
      ]
     },
     "execution_count": 3,
     "metadata": {},
     "output_type": "execute_result"
    }
   ],
   "source": [
    "birth_data"
   ]
  },
  {
   "cell_type": "code",
   "execution_count": 4,
   "id": "b2ddb3e0",
   "metadata": {},
   "outputs": [
    {
     "data": {
      "text/plain": [
       "1.0    2486335\n",
       "2.0    1037269\n",
       "3.0      90043\n",
       "4.0       6179\n",
       "Name: RESTATUS, dtype: int64"
      ]
     },
     "execution_count": 4,
     "metadata": {},
     "output_type": "execute_result"
    }
   ],
   "source": [
    "birth_data['RESTATUS'].value_counts()"
   ]
  },
  {
   "cell_type": "markdown",
   "id": "e5612fdb",
   "metadata": {},
   "source": [
    "# rename dataframe"
   ]
  },
  {
   "cell_type": "code",
   "execution_count": null,
   "id": "17505d1e",
   "metadata": {},
   "outputs": [],
   "source": [
    "birth_data = pd.DataFrame(birth_data)"
   ]
  },
  {
   "cell_type": "markdown",
   "id": "efa7c4e4",
   "metadata": {},
   "source": [
    "birth_data = birth_data[['bfacil', 'mrace6', 'ld_indl', 'ld_augm', 'dmeth_rec', 'mm_mtr', 'mm_plac', 'mm_rupt', 'mm_uhyst', 'mm_aicu', 'apgar5', 'pay_rec', 'attend']]"
   ]
  },
  {
   "cell_type": "markdown",
   "id": "0fde4fd1",
   "metadata": {},
   "source": [
    "# Rename columns for clarity"
   ]
  },
  {
   "cell_type": "code",
   "execution_count": null,
   "id": "729eae71",
   "metadata": {},
   "outputs": [],
   "source": [
    "birth_data = birth_data.rename(columns = {'BFACIL': 'Place', 'MRACE6': 'Race', 'LD_INDL': 'Induction', 'LD_AUGM': 'Augmented', 'DMETH_REC': 'Delivery_Type', 'MM_MTR': 'Maternal_Transfusion', 'MM_PLAC': 'Perineal_Tear', 'MM_RUPT': 'Uterin_Rupture', 'MM_UHYST': 'unplanned_hysterectomy', 'MM_AICU': 'ICU_Admission', 'APGAR5': '5_min_APGAR', 'PAY_REC': 'Payment_Type', 'MAGER9': 'Mother_Age', 'MEDUC': 'Edu_level', 'ATTEND': 'attend'})\n",
    "birth_data"
   ]
  },
  {
   "cell_type": "code",
   "execution_count": null,
   "id": "11f63d77",
   "metadata": {},
   "outputs": [],
   "source": [
    "birth_data = birth_data.dropna()"
   ]
  },
  {
   "cell_type": "markdown",
   "id": "5e849d8f",
   "metadata": {},
   "source": [
    "# Break down data to only hospital(1.0) or Freestanding Birth Center(2.0)"
   ]
  },
  {
   "cell_type": "code",
   "execution_count": null,
   "id": "237bd928",
   "metadata": {},
   "outputs": [],
   "source": [
    "birth_data = birth_data.loc[(birth_data.Place == 1.0) | (birth_data.Place == 2.0)]\n",
    "birth_data"
   ]
  },
  {
   "cell_type": "markdown",
   "id": "cb39c94e",
   "metadata": {},
   "source": [
    "# breakdown data into 3 major race's White(1.0), Black(2.0), Asian(4.0)"
   ]
  },
  {
   "cell_type": "markdown",
   "id": "390a207e",
   "metadata": {},
   "source": [
    "birth_data['Race']"
   ]
  },
  {
   "cell_type": "code",
   "execution_count": null,
   "id": "0296204d",
   "metadata": {
    "scrolled": true
   },
   "outputs": [],
   "source": [
    "birth_data = birth_data.loc[(birth_data.Race == 1) | (birth_data.Race == 2) | (birth_data.Race == 4)]\n",
    "birth_data"
   ]
  },
  {
   "cell_type": "markdown",
   "id": "65800cc4",
   "metadata": {},
   "source": [
    "# breakdown data of Attendant at Birth MD(1.0), CNM/CM(3.0), Other Midwife(4.0) "
   ]
  },
  {
   "cell_type": "code",
   "execution_count": null,
   "id": "4c938b3d",
   "metadata": {
    "scrolled": true
   },
   "outputs": [],
   "source": [
    "birth_data = birth_data.loc[(birth_data.attend == 1) | (birth_data.attend == 3) | (birth_data.attend == 4)]\n",
    "birth_data"
   ]
  },
  {
   "cell_type": "code",
   "execution_count": null,
   "id": "96c928fd",
   "metadata": {
    "scrolled": true
   },
   "outputs": [],
   "source": [
    "birth_data.info()"
   ]
  },
  {
   "cell_type": "code",
   "execution_count": null,
   "id": "9de47809",
   "metadata": {},
   "outputs": [],
   "source": [
    "birth_data[['Place', 'Mother_Age', 'Race', 'Edu_level', 'Delivery_Type', 'attend', 'Payment_Type', '5_min_APGAR']] = birth_data[['Place', 'Mother_Age', 'Race', 'Edu_level', 'Delivery_Type', 'attend', 'Payment_Type', '5_min_APGAR']].astype(int)"
   ]
  },
  {
   "cell_type": "code",
   "execution_count": null,
   "id": "24fa352f",
   "metadata": {},
   "outputs": [],
   "source": [
    "birth_data['Year'] = 2020"
   ]
  },
  {
   "cell_type": "code",
   "execution_count": null,
   "id": "ee095e6c",
   "metadata": {},
   "outputs": [],
   "source": [
    "birth_data"
   ]
  },
  {
   "cell_type": "code",
   "execution_count": null,
   "id": "ddb880e5",
   "metadata": {},
   "outputs": [],
   "source": [
    "full_2020 = birth_data"
   ]
  },
  {
   "cell_type": "code",
   "execution_count": null,
   "id": "28bd6473",
   "metadata": {},
   "outputs": [],
   "source": [
    "full_2020.to_csv('full_2020.csv', index=False)"
   ]
  },
  {
   "cell_type": "code",
   "execution_count": null,
   "id": "9f27d6f2",
   "metadata": {},
   "outputs": [],
   "source": []
  }
 ],
 "metadata": {
  "kernelspec": {
   "display_name": "Python 3 (ipykernel)",
   "language": "python",
   "name": "python3"
  },
  "language_info": {
   "codemirror_mode": {
    "name": "ipython",
    "version": 3
   },
   "file_extension": ".py",
   "mimetype": "text/x-python",
   "name": "python",
   "nbconvert_exporter": "python",
   "pygments_lexer": "ipython3",
   "version": "3.9.7"
  }
 },
 "nbformat": 4,
 "nbformat_minor": 5
}
