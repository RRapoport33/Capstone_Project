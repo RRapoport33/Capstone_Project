{
 "cells": [
  {
   "cell_type": "code",
   "execution_count": null,
   "id": "17bb9398",
   "metadata": {},
   "outputs": [],
   "source": [
    "import pandas as pd\n",
    "import glob\n",
    "import os"
   ]
  },
  {
   "cell_type": "code",
   "execution_count": null,
   "id": "37569596",
   "metadata": {},
   "outputs": [],
   "source": [
    "files_joined = os.path.join('C:\\\\Users\\\\Ronit\\\\Documents\\\\NSS\\\\Capstone\\\\Capstone_Project\\\\Ohio Data', \"Ohio_*.csv\")"
   ]
  },
  {
   "cell_type": "code",
   "execution_count": null,
   "id": "7ebd2f19",
   "metadata": {},
   "outputs": [],
   "source": [
    "list_files = glob.glob(files_joined)"
   ]
  },
  {
   "cell_type": "code",
   "execution_count": null,
   "id": "4bb62fc3",
   "metadata": {},
   "outputs": [],
   "source": [
    "ohio_data = pd.concat(map(pd.read_csv, list_files), ignore_index=True)\n",
    "ohio_data"
   ]
  },
  {
   "cell_type": "code",
   "execution_count": null,
   "id": "65618a20",
   "metadata": {},
   "outputs": [],
   "source": [
    "ohio_data = ohio_data.dropna()"
   ]
  },
  {
   "cell_type": "code",
   "execution_count": null,
   "id": "22143136",
   "metadata": {
    "scrolled": true
   },
   "outputs": [],
   "source": [
    "ohio_data.head(5)"
   ]
  },
  {
   "cell_type": "code",
   "execution_count": null,
   "id": "a8d0b222",
   "metadata": {},
   "outputs": [],
   "source": [
    "ohio_data[['Age of Mother 9', 'Birthplace', 'Delivery Method', 'Medical Attendant', \"Mother's Education\", 'Births', 'Year']] = ohio_data[['Age of Mother 9', 'Birthplace', 'Delivery Method', 'Medical Attendant', \"Mother's Education\", 'Births', 'Year']]"
   ]
  },
  {
   "cell_type": "code",
   "execution_count": null,
   "id": "4d7c5fda",
   "metadata": {},
   "outputs": [],
   "source": [
    "ohio_data.head(5)"
   ]
  },
  {
   "cell_type": "markdown",
   "id": "5e63db6e",
   "metadata": {},
   "source": [
    "birth_data_final.to_csv('birth_data_final.csv', index=False)"
   ]
  },
  {
   "cell_type": "code",
   "execution_count": null,
   "id": "630be831",
   "metadata": {},
   "outputs": [],
   "source": [
    "ohio_data = ohio_data[['Age of Mother 9', 'Birthplace', 'Delivery Method', 'Medical Attendant', \"Mother's Education\", 'Births', 'Year']]"
   ]
  },
  {
   "cell_type": "code",
   "execution_count": null,
   "id": "4917c65c",
   "metadata": {},
   "outputs": [],
   "source": [
    "ohio_data"
   ]
  },
  {
   "cell_type": "code",
   "execution_count": null,
   "id": "9ae55e9e",
   "metadata": {},
   "outputs": [],
   "source": [
    "ohio_data.to_csv('ohio_data.csv', index=False)"
   ]
  },
  {
   "cell_type": "code",
   "execution_count": null,
   "id": "4fb7f48c",
   "metadata": {},
   "outputs": [],
   "source": []
  }
 ],
 "metadata": {
  "kernelspec": {
   "display_name": "Python 3 (ipykernel)",
   "language": "python",
   "name": "python3"
  },
  "language_info": {
   "codemirror_mode": {
    "name": "ipython",
    "version": 3
   },
   "file_extension": ".py",
   "mimetype": "text/x-python",
   "name": "python",
   "nbconvert_exporter": "python",
   "pygments_lexer": "ipython3",
   "version": "3.9.7"
  }
 },
 "nbformat": 4,
 "nbformat_minor": 5
}
