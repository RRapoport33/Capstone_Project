{
 "cells": [
  {
   "cell_type": "code",
   "execution_count": null,
   "id": "6b190861",
   "metadata": {},
   "outputs": [],
   "source": [
    "import pandas as pd"
   ]
  },
  {
   "cell_type": "code",
   "execution_count": null,
   "id": "19180fd9",
   "metadata": {},
   "outputs": [],
   "source": [
    "birth_data_N = pd.read_csv('../data/birth_data_1.csv')"
   ]
  },
  {
   "cell_type": "code",
   "execution_count": null,
   "id": "35847de1",
   "metadata": {},
   "outputs": [],
   "source": [
    "birth_data_N.head(3)"
   ]
  },
  {
   "cell_type": "code",
   "execution_count": null,
   "id": "d3cc5dcc",
   "metadata": {},
   "outputs": [],
   "source": [
    "trial = birth_data_N[['attend']].loc[(birth_data_N.attend != 'Midwife')].value_counts(normalize=True)\n",
    "trial"
   ]
  },
  {
   "cell_type": "code",
   "execution_count": null,
   "id": "25cd4a15",
   "metadata": {},
   "outputs": [],
   "source": [
    "birth_data_N['attend'].value_counts()"
   ]
  },
  {
   "cell_type": "code",
   "execution_count": null,
   "id": "f72c79d6",
   "metadata": {},
   "outputs": [],
   "source": [
    "race_attend = pd.DataFrame(birth_data_N.groupby('Race')['attend'].value_counts(normalize=True))\n",
    "#rename columns and then reset_index"
   ]
  },
  {
   "cell_type": "code",
   "execution_count": null,
   "id": "58ec4b5e",
   "metadata": {},
   "outputs": [],
   "source": []
  }
 ],
 "metadata": {
  "kernelspec": {
   "display_name": "Python 3 (ipykernel)",
   "language": "python",
   "name": "python3"
  },
  "language_info": {
   "codemirror_mode": {
    "name": "ipython",
    "version": 3
   },
   "file_extension": ".py",
   "mimetype": "text/x-python",
   "name": "python",
   "nbconvert_exporter": "python",
   "pygments_lexer": "ipython3",
   "version": "3.9.7"
  }
 },
 "nbformat": 4,
 "nbformat_minor": 5
}
