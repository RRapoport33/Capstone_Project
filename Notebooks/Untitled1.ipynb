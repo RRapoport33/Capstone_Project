{
 "cells": [
  {
   "cell_type": "code",
   "execution_count": null,
   "id": "d78849e2",
   "metadata": {},
   "outputs": [],
   "source": [
    "import pandas as pd"
   ]
  },
  {
   "cell_type": "code",
   "execution_count": null,
   "id": "1ac5cf4e",
   "metadata": {},
   "outputs": [],
   "source": [
    "trial = pd.read_csv('../data/birth_data_final.csv')"
   ]
  },
  {
   "cell_type": "code",
   "execution_count": null,
   "id": "dc793416",
   "metadata": {},
   "outputs": [],
   "source": [
    "trial['Year'].value_counts()"
   ]
  },
  {
   "cell_type": "code",
   "execution_count": null,
   "id": "82698972",
   "metadata": {},
   "outputs": [],
   "source": [
    "trial['complications'] = (trial[['Augmented', 'Maternal_Transfusion', 'Perineal_Tear', 'Uterin_Rupture', 'unplanned_hysterectomy', 'ICU_Admission']] == 'Y').any(axis=1)"
   ]
  },
  {
   "cell_type": "code",
   "execution_count": null,
   "id": "c3f6d3f8",
   "metadata": {},
   "outputs": [],
   "source": [
    "trial"
   ]
  },
  {
   "cell_type": "code",
   "execution_count": null,
   "id": "1ac7f1ec",
   "metadata": {},
   "outputs": [],
   "source": [
    "trial['Year'].value_counts()"
   ]
  },
  {
   "cell_type": "code",
   "execution_count": null,
   "id": "09dea3c7",
   "metadata": {},
   "outputs": [],
   "source": [
    "birth_data_final = trial"
   ]
  },
  {
   "cell_type": "code",
   "execution_count": null,
   "id": "4f19c5ab",
   "metadata": {},
   "outputs": [],
   "source": [
    "birth_data_final['Year'].value_counts()"
   ]
  },
  {
   "cell_type": "code",
   "execution_count": null,
   "id": "cc7d4dad",
   "metadata": {},
   "outputs": [],
   "source": [
    "birth_data_final.to_csv('birth_data_final.csv', index=False)"
   ]
  },
  {
   "cell_type": "code",
   "execution_count": null,
   "id": "1207176a",
   "metadata": {},
   "outputs": [],
   "source": []
  }
 ],
 "metadata": {
  "kernelspec": {
   "display_name": "Python 3 (ipykernel)",
   "language": "python",
   "name": "python3"
  },
  "language_info": {
   "codemirror_mode": {
    "name": "ipython",
    "version": 3
   },
   "file_extension": ".py",
   "mimetype": "text/x-python",
   "name": "python",
   "nbconvert_exporter": "python",
   "pygments_lexer": "ipython3",
   "version": "3.9.7"
  }
 },
 "nbformat": 4,
 "nbformat_minor": 5
}
