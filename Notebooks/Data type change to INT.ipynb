{
 "cells": [
  {
   "cell_type": "code",
   "execution_count": null,
   "id": "5f896147",
   "metadata": {},
   "outputs": [],
   "source": [
    "import pandas as pd"
   ]
  },
  {
   "cell_type": "code",
   "execution_count": null,
   "id": "f76cb889",
   "metadata": {},
   "outputs": [],
   "source": [
    "data_2020 = pd.read_csv('../Data/birth_center_2020.csv')"
   ]
  },
  {
   "cell_type": "code",
   "execution_count": null,
   "id": "c493d695",
   "metadata": {
    "scrolled": true
   },
   "outputs": [],
   "source": [
    "data_2020"
   ]
  },
  {
   "cell_type": "code",
   "execution_count": null,
   "id": "b5d28392",
   "metadata": {},
   "outputs": [],
   "source": [
    "data_2020 = data_2020.rename(columns = {'ATTEND': 'attend'})\n",
    "data_2020"
   ]
  },
  {
   "cell_type": "code",
   "execution_count": null,
   "id": "66962319",
   "metadata": {},
   "outputs": [],
   "source": [
    "data_2020.info()"
   ]
  },
  {
   "cell_type": "code",
   "execution_count": null,
   "id": "8db609f5",
   "metadata": {},
   "outputs": [],
   "source": [
    "data_2020[['Place', 'Race', 'Delivery_Type', 'attend', 'Payment_Type', '5_min_APGAR']] = data_2020[['Place', 'Race', 'Delivery_Type', 'attend', 'Payment_Type', '5_min_APGAR']].astype(int)"
   ]
  },
  {
   "cell_type": "code",
   "execution_count": null,
   "id": "be10ec6d",
   "metadata": {
    "scrolled": true
   },
   "outputs": [],
   "source": [
    "bc_2020 = data_2020\n",
    "bc_2020"
   ]
  },
  {
   "cell_type": "code",
   "execution_count": null,
   "id": "e416be13",
   "metadata": {},
   "outputs": [],
   "source": [
    "bc_2020.to_csv('bc_2020.csv', index=False)"
   ]
  },
  {
   "cell_type": "code",
   "execution_count": null,
   "id": "0fc6533c",
   "metadata": {},
   "outputs": [],
   "source": []
  }
 ],
 "metadata": {
  "kernelspec": {
   "display_name": "Python 3 (ipykernel)",
   "language": "python",
   "name": "python3"
  },
  "language_info": {
   "codemirror_mode": {
    "name": "ipython",
    "version": 3
   },
   "file_extension": ".py",
   "mimetype": "text/x-python",
   "name": "python",
   "nbconvert_exporter": "python",
   "pygments_lexer": "ipython3",
   "version": "3.9.7"
  }
 },
 "nbformat": 4,
 "nbformat_minor": 5
}
